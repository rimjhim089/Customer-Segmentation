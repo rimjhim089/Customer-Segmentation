{
  "nbformat": 4,
  "nbformat_minor": 0,
  "metadata": {
    "colab": {
      "name": "RFM.ipynb",
      "provenance": [],
      "collapsed_sections": []
    },
    "kernelspec": {
      "name": "python3",
      "display_name": "Python 3"
    },
    "language_info": {
      "name": "python"
    }
  },
  "cells": [
    {
      "cell_type": "code",
      "metadata": {
        "id": "D3s-L3AiRhWw"
      },
      "source": [
        "import numpy as np\n",
        "import pandas as pd\n",
        "import matplotlib.pyplot as plt\n",
        "import seaborn as sns\n",
        "import datetime as dt\n",
        "from google.colab import drive"
      ],
      "execution_count": null,
      "outputs": []
    },
    {
      "cell_type": "code",
      "metadata": {
        "colab": {
          "base_uri": "https://localhost:8080/"
        },
        "id": "4yzh8rTaTF9F",
        "outputId": "498ad383-ad14-4b3a-af8b-adf4aa239dc0"
      },
      "source": [
        "drive.mount(\"/content/drive\")"
      ],
      "execution_count": null,
      "outputs": [
        {
          "output_type": "stream",
          "text": [
            "Drive already mounted at /content/drive; to attempt to forcibly remount, call drive.mount(\"/content/drive\", force_remount=True).\n"
          ],
          "name": "stdout"
        }
      ]
    },
    {
      "cell_type": "markdown",
      "metadata": {
        "id": "ImQR55EEb5cu"
      },
      "source": [
        "# Unsupervised Learning"
      ]
    },
    {
      "cell_type": "code",
      "metadata": {
        "id": "3VtAzXLGcD30"
      },
      "source": [
        "from sklearn.cluster import KMeans\n",
        "from sklearn import preprocessing\n",
        "from sklearn import metrics\n",
        "from scipy.spatial.distance import cdist\n",
        "from matplotlib.colors import to_hex"
      ],
      "execution_count": null,
      "outputs": []
    },
    {
      "cell_type": "markdown",
      "metadata": {
        "id": "UaIIY_mpYtdF"
      },
      "source": [
        "### Preprocessing"
      ]
    },
    {
      "cell_type": "code",
      "metadata": {
        "colab": {
          "base_uri": "https://localhost:8080/"
        },
        "id": "BDTxOkITyh21",
        "outputId": "be92e95f-636d-4f11-a34d-d9288eaaeb38"
      },
      "source": [
        "df = pd.read_csv(\"/content/drive/MyDrive/Colab Notebooks/online_purchase.csv\",encoding=\"unicode_escape\")\n",
        "df.info()"
      ],
      "execution_count": null,
      "outputs": [
        {
          "output_type": "stream",
          "text": [
            "<class 'pandas.core.frame.DataFrame'>\n",
            "RangeIndex: 541909 entries, 0 to 541908\n",
            "Data columns (total 8 columns):\n",
            " #   Column       Non-Null Count   Dtype  \n",
            "---  ------       --------------   -----  \n",
            " 0   InvoiceNo    541909 non-null  object \n",
            " 1   StockCode    541909 non-null  object \n",
            " 2   Description  540455 non-null  object \n",
            " 3   Quantity     541909 non-null  int64  \n",
            " 4   InvoiceDate  541909 non-null  object \n",
            " 5   UnitPrice    541909 non-null  float64\n",
            " 6   CustomerID   406829 non-null  float64\n",
            " 7   Country      541909 non-null  object \n",
            "dtypes: float64(2), int64(1), object(5)\n",
            "memory usage: 33.1+ MB\n"
          ],
          "name": "stdout"
        }
      ]
    },
    {
      "cell_type": "code",
      "metadata": {
        "id": "1O8L8ByMz3XM"
      },
      "source": [
        "# drop null rows\n",
        "df.dropna(subset=[\"CustomerID\"],inplace=True)"
      ],
      "execution_count": null,
      "outputs": []
    },
    {
      "cell_type": "code",
      "metadata": {
        "id": "9kCcm3fL662c"
      },
      "source": [
        "# droping canceled orders\n",
        "df_cleaned = df.copy(deep = True)\n",
        "df_cleaned['QuantityCanceled'] = 0\n",
        "\n",
        "entry_to_remove = [] ; doubtfull_entry = []\n",
        "\n",
        "for index, col in  df.iterrows():\n",
        "    if (col['Quantity'] > 0) or col['Description'] == 'Discount': continue        \n",
        "    df_test = df[(df['CustomerID'] == col['CustomerID']) &\n",
        "                         (df['StockCode']  == col['StockCode']) & \n",
        "                         (df['InvoiceDate'] < col['InvoiceDate']) & \n",
        "                         (df['Quantity']   > 0)].copy()\n",
        "\n",
        "    # Cancelation WITHOUT counterpart\n",
        "    if (df_test.shape[0] == 0): \n",
        "        doubtfull_entry.append(index)\n",
        "   \n",
        "    # Cancelation WITH a counterpart\n",
        "    elif (df_test.shape[0] == 1): \n",
        "        index_order = df_test.index[0]\n",
        "        df_cleaned.loc[index_order, 'QuantityCanceled'] = -col['Quantity']\n",
        "        entry_to_remove.append(index)        \n",
        "   \n",
        "    # Various counterparts exist in orders: we delete the last one\n",
        "    elif (df_test.shape[0] > 1): \n",
        "        df_test.sort_index(axis=0 ,ascending=False, inplace = True)        \n",
        "        for ind, val in df_test.iterrows():\n",
        "            if val['Quantity'] < -col['Quantity']: continue\n",
        "            df_cleaned.loc[ind, 'QuantityCanceled'] = -col['Quantity']\n",
        "            entry_to_remove.append(index) \n",
        "            break           \n",
        "\n",
        "df_cleaned.drop(entry_to_remove, axis = 0, inplace = True)\n",
        "df_cleaned.drop(doubtfull_entry, axis = 0, inplace = True) "
      ],
      "execution_count": null,
      "outputs": []
    },
    {
      "cell_type": "code",
      "metadata": {
        "id": "-lANdwHdC3ZD"
      },
      "source": [
        "df_cleaned.to_csv(\"cleaned_dataset.csv\")"
      ],
      "execution_count": null,
      "outputs": []
    },
    {
      "cell_type": "code",
      "metadata": {
        "colab": {
          "base_uri": "https://localhost:8080/"
        },
        "id": "mKbW9KtsDpwf",
        "outputId": "4f8bca5d-7f23-4efc-85e8-4b5d1342d7ba"
      },
      "source": [
        "df_cleaned = pd.read_csv(\"cleaned_dataset.csv\")"
      ],
      "execution_count": null,
      "outputs": [
        {
          "output_type": "stream",
          "text": [
            "/usr/local/lib/python3.7/dist-packages/IPython/core/interactiveshell.py:2718: DtypeWarning: Columns (1) have mixed types.Specify dtype option on import or set low_memory=False.\n",
            "  interactivity=interactivity, compiler=compiler, result=result)\n"
          ],
          "name": "stderr"
        }
      ]
    },
    {
      "cell_type": "code",
      "metadata": {
        "colab": {
          "base_uri": "https://localhost:8080/",
          "height": 343
        },
        "id": "xHixanLCm6Ep",
        "outputId": "1a233f42-9637-440f-a8bf-5866442b1ea2"
      },
      "source": [
        "df_cleaned.head(10)"
      ],
      "execution_count": null,
      "outputs": [
        {
          "output_type": "execute_result",
          "data": {
            "text/html": [
              "<div>\n",
              "<style scoped>\n",
              "    .dataframe tbody tr th:only-of-type {\n",
              "        vertical-align: middle;\n",
              "    }\n",
              "\n",
              "    .dataframe tbody tr th {\n",
              "        vertical-align: top;\n",
              "    }\n",
              "\n",
              "    .dataframe thead th {\n",
              "        text-align: right;\n",
              "    }\n",
              "</style>\n",
              "<table border=\"1\" class=\"dataframe\">\n",
              "  <thead>\n",
              "    <tr style=\"text-align: right;\">\n",
              "      <th></th>\n",
              "      <th>Unnamed: 0</th>\n",
              "      <th>InvoiceNo</th>\n",
              "      <th>StockCode</th>\n",
              "      <th>Description</th>\n",
              "      <th>Quantity</th>\n",
              "      <th>InvoiceDate</th>\n",
              "      <th>UnitPrice</th>\n",
              "      <th>CustomerID</th>\n",
              "      <th>Country</th>\n",
              "      <th>QuantityCanceled</th>\n",
              "    </tr>\n",
              "  </thead>\n",
              "  <tbody>\n",
              "    <tr>\n",
              "      <th>0</th>\n",
              "      <td>0</td>\n",
              "      <td>536365</td>\n",
              "      <td>85123A</td>\n",
              "      <td>WHITE HANGING HEART T-LIGHT HOLDER</td>\n",
              "      <td>6</td>\n",
              "      <td>12/1/2010 8:26</td>\n",
              "      <td>2.55</td>\n",
              "      <td>17850.0</td>\n",
              "      <td>United Kingdom</td>\n",
              "      <td>0</td>\n",
              "    </tr>\n",
              "    <tr>\n",
              "      <th>1</th>\n",
              "      <td>1</td>\n",
              "      <td>536365</td>\n",
              "      <td>71053</td>\n",
              "      <td>WHITE METAL LANTERN</td>\n",
              "      <td>6</td>\n",
              "      <td>12/1/2010 8:26</td>\n",
              "      <td>3.39</td>\n",
              "      <td>17850.0</td>\n",
              "      <td>United Kingdom</td>\n",
              "      <td>0</td>\n",
              "    </tr>\n",
              "    <tr>\n",
              "      <th>2</th>\n",
              "      <td>2</td>\n",
              "      <td>536365</td>\n",
              "      <td>84406B</td>\n",
              "      <td>CREAM CUPID HEARTS COAT HANGER</td>\n",
              "      <td>8</td>\n",
              "      <td>12/1/2010 8:26</td>\n",
              "      <td>2.75</td>\n",
              "      <td>17850.0</td>\n",
              "      <td>United Kingdom</td>\n",
              "      <td>0</td>\n",
              "    </tr>\n",
              "    <tr>\n",
              "      <th>3</th>\n",
              "      <td>3</td>\n",
              "      <td>536365</td>\n",
              "      <td>84029G</td>\n",
              "      <td>KNITTED UNION FLAG HOT WATER BOTTLE</td>\n",
              "      <td>6</td>\n",
              "      <td>12/1/2010 8:26</td>\n",
              "      <td>3.39</td>\n",
              "      <td>17850.0</td>\n",
              "      <td>United Kingdom</td>\n",
              "      <td>0</td>\n",
              "    </tr>\n",
              "    <tr>\n",
              "      <th>4</th>\n",
              "      <td>4</td>\n",
              "      <td>536365</td>\n",
              "      <td>84029E</td>\n",
              "      <td>RED WOOLLY HOTTIE WHITE HEART.</td>\n",
              "      <td>6</td>\n",
              "      <td>12/1/2010 8:26</td>\n",
              "      <td>3.39</td>\n",
              "      <td>17850.0</td>\n",
              "      <td>United Kingdom</td>\n",
              "      <td>0</td>\n",
              "    </tr>\n",
              "    <tr>\n",
              "      <th>5</th>\n",
              "      <td>5</td>\n",
              "      <td>536365</td>\n",
              "      <td>22752</td>\n",
              "      <td>SET 7 BABUSHKA NESTING BOXES</td>\n",
              "      <td>2</td>\n",
              "      <td>12/1/2010 8:26</td>\n",
              "      <td>7.65</td>\n",
              "      <td>17850.0</td>\n",
              "      <td>United Kingdom</td>\n",
              "      <td>0</td>\n",
              "    </tr>\n",
              "    <tr>\n",
              "      <th>6</th>\n",
              "      <td>6</td>\n",
              "      <td>536365</td>\n",
              "      <td>21730</td>\n",
              "      <td>GLASS STAR FROSTED T-LIGHT HOLDER</td>\n",
              "      <td>6</td>\n",
              "      <td>12/1/2010 8:26</td>\n",
              "      <td>4.25</td>\n",
              "      <td>17850.0</td>\n",
              "      <td>United Kingdom</td>\n",
              "      <td>0</td>\n",
              "    </tr>\n",
              "    <tr>\n",
              "      <th>7</th>\n",
              "      <td>7</td>\n",
              "      <td>536366</td>\n",
              "      <td>22633</td>\n",
              "      <td>HAND WARMER UNION JACK</td>\n",
              "      <td>6</td>\n",
              "      <td>12/1/2010 8:28</td>\n",
              "      <td>1.85</td>\n",
              "      <td>17850.0</td>\n",
              "      <td>United Kingdom</td>\n",
              "      <td>0</td>\n",
              "    </tr>\n",
              "    <tr>\n",
              "      <th>8</th>\n",
              "      <td>8</td>\n",
              "      <td>536366</td>\n",
              "      <td>22632</td>\n",
              "      <td>HAND WARMER RED POLKA DOT</td>\n",
              "      <td>6</td>\n",
              "      <td>12/1/2010 8:28</td>\n",
              "      <td>1.85</td>\n",
              "      <td>17850.0</td>\n",
              "      <td>United Kingdom</td>\n",
              "      <td>0</td>\n",
              "    </tr>\n",
              "    <tr>\n",
              "      <th>9</th>\n",
              "      <td>9</td>\n",
              "      <td>536367</td>\n",
              "      <td>84879</td>\n",
              "      <td>ASSORTED COLOUR BIRD ORNAMENT</td>\n",
              "      <td>32</td>\n",
              "      <td>12/1/2010 8:34</td>\n",
              "      <td>1.69</td>\n",
              "      <td>13047.0</td>\n",
              "      <td>United Kingdom</td>\n",
              "      <td>0</td>\n",
              "    </tr>\n",
              "  </tbody>\n",
              "</table>\n",
              "</div>"
            ],
            "text/plain": [
              "   Unnamed: 0 InvoiceNo StockCode  ... CustomerID         Country QuantityCanceled\n",
              "0           0    536365    85123A  ...    17850.0  United Kingdom                0\n",
              "1           1    536365     71053  ...    17850.0  United Kingdom                0\n",
              "2           2    536365    84406B  ...    17850.0  United Kingdom                0\n",
              "3           3    536365    84029G  ...    17850.0  United Kingdom                0\n",
              "4           4    536365    84029E  ...    17850.0  United Kingdom                0\n",
              "5           5    536365     22752  ...    17850.0  United Kingdom                0\n",
              "6           6    536365     21730  ...    17850.0  United Kingdom                0\n",
              "7           7    536366     22633  ...    17850.0  United Kingdom                0\n",
              "8           8    536366     22632  ...    17850.0  United Kingdom                0\n",
              "9           9    536367     84879  ...    13047.0  United Kingdom                0\n",
              "\n",
              "[10 rows x 10 columns]"
            ]
          },
          "metadata": {
            "tags": []
          },
          "execution_count": 23
        }
      ]
    },
    {
      "cell_type": "code",
      "metadata": {
        "id": "lYXgZV6DRA5K"
      },
      "source": [
        "df_cleaned[\"Amount\"] = df_cleaned[\"Quantity\"]*df_cleaned[\"UnitPrice\"]"
      ],
      "execution_count": null,
      "outputs": []
    },
    {
      "cell_type": "code",
      "metadata": {
        "id": "s4IiQYfyM_nU"
      },
      "source": [
        "# creating RFM table\n",
        "todays = dt.datetime(2021,4,22,16,40)\n",
        "df_cleaned[\"InvoiceDate\"] = pd.to_datetime(df_cleaned.InvoiceDate)\n",
        "df_modified = df_cleaned.groupby('CustomerID').agg({'InvoiceDate': lambda x: (todays - x.max()).days, # Recency\n",
        "                                        'InvoiceNo': lambda x: len(x),      # Frequency\n",
        "                                        \"Amount\": lambda x: x.sum()}) # Monetary Value"
      ],
      "execution_count": null,
      "outputs": []
    },
    {
      "cell_type": "code",
      "metadata": {
        "id": "-n91QcjDS4kf"
      },
      "source": [
        "df_modified.rename(inplace=True,columns={\"InvoiceDate\":\"Recency\",\"InvoiceNo\":\"Frequency\",\"Amount\":\"Monetary_value\"})"
      ],
      "execution_count": null,
      "outputs": []
    },
    {
      "cell_type": "code",
      "metadata": {
        "colab": {
          "base_uri": "https://localhost:8080/",
          "height": 225
        },
        "id": "RVLsZ0O7Rqug",
        "outputId": "a3fe810e-c596-48b7-dba8-aad4bcd7c6b9"
      },
      "source": [
        "df_modified.head()"
      ],
      "execution_count": null,
      "outputs": [
        {
          "output_type": "execute_result",
          "data": {
            "text/html": [
              "<div>\n",
              "<style scoped>\n",
              "    .dataframe tbody tr th:only-of-type {\n",
              "        vertical-align: middle;\n",
              "    }\n",
              "\n",
              "    .dataframe tbody tr th {\n",
              "        vertical-align: top;\n",
              "    }\n",
              "\n",
              "    .dataframe thead th {\n",
              "        text-align: right;\n",
              "    }\n",
              "</style>\n",
              "<table border=\"1\" class=\"dataframe\">\n",
              "  <thead>\n",
              "    <tr style=\"text-align: right;\">\n",
              "      <th></th>\n",
              "      <th>Recency</th>\n",
              "      <th>Frequency</th>\n",
              "      <th>Monetary_value</th>\n",
              "    </tr>\n",
              "    <tr>\n",
              "      <th>CustomerID</th>\n",
              "      <th></th>\n",
              "      <th></th>\n",
              "      <th></th>\n",
              "    </tr>\n",
              "  </thead>\n",
              "  <tbody>\n",
              "    <tr>\n",
              "      <th>12346.0</th>\n",
              "      <td>3747</td>\n",
              "      <td>1</td>\n",
              "      <td>77183.60</td>\n",
              "    </tr>\n",
              "    <tr>\n",
              "      <th>12347.0</th>\n",
              "      <td>3424</td>\n",
              "      <td>182</td>\n",
              "      <td>4310.00</td>\n",
              "    </tr>\n",
              "    <tr>\n",
              "      <th>12348.0</th>\n",
              "      <td>3497</td>\n",
              "      <td>31</td>\n",
              "      <td>1797.24</td>\n",
              "    </tr>\n",
              "    <tr>\n",
              "      <th>12349.0</th>\n",
              "      <td>3440</td>\n",
              "      <td>73</td>\n",
              "      <td>1757.55</td>\n",
              "    </tr>\n",
              "    <tr>\n",
              "      <th>12350.0</th>\n",
              "      <td>3732</td>\n",
              "      <td>17</td>\n",
              "      <td>334.40</td>\n",
              "    </tr>\n",
              "  </tbody>\n",
              "</table>\n",
              "</div>"
            ],
            "text/plain": [
              "            Recency  Frequency  Monetary_value\n",
              "CustomerID                                    \n",
              "12346.0        3747          1        77183.60\n",
              "12347.0        3424        182         4310.00\n",
              "12348.0        3497         31         1797.24\n",
              "12349.0        3440         73         1757.55\n",
              "12350.0        3732         17          334.40"
            ]
          },
          "metadata": {
            "tags": []
          },
          "execution_count": 21
        }
      ]
    },
    {
      "cell_type": "code",
      "metadata": {
        "id": "Utlhn-04TaQR"
      },
      "source": [
        "scale = preprocessing.StandardScaler()\n",
        "XX = scale.fit_transform(df_modified)\n",
        "partition = int(len(XX)*4/5)\n",
        "XX_train, XX_test = XX[:partition], XX[partition:]"
      ],
      "execution_count": null,
      "outputs": []
    },
    {
      "cell_type": "markdown",
      "metadata": {
        "id": "Wr-OfTMcYnrF"
      },
      "source": [
        "### Visualization of dataset"
      ]
    },
    {
      "cell_type": "code",
      "metadata": {
        "colab": {
          "base_uri": "https://localhost:8080/",
          "height": 483
        },
        "id": "VOawixomdVV3",
        "outputId": "26d5cb59-1988-4ab3-f5c5-2634f3efc9f7"
      },
      "source": [
        "plt.figure(figsize=(9,7))\n",
        "# plt.scatter(XX_train[:,0],XX_train[:,2])\n",
        "\n",
        "axs = plt.axes(projection=\"3d\")\n",
        "axs.scatter3D(XX_train[:,0],XX_train[:,1],XX_train[:,2])"
      ],
      "execution_count": null,
      "outputs": [
        {
          "output_type": "execute_result",
          "data": {
            "text/plain": [
              "<mpl_toolkits.mplot3d.art3d.Path3DCollection at 0x7f940638aa10>"
            ]
          },
          "metadata": {
            "tags": []
          },
          "execution_count": 46
        },
        {
          "output_type": "display_data",
          "data": {
            "image/png": "[encoded data removed]",
            "text/plain": [
              "<Figure size 720x576 with 1 Axes>"
            ]
          },
          "metadata": {
            "tags": [],
            "needs_background": "light"
          }
        }
      ]
    },
    {
      "cell_type": "markdown",
      "metadata": {
        "id": "kAIOTfWdZVBY"
      },
      "source": [
        "## K-means"
      ]
    },
    {
      "cell_type": "markdown",
      "metadata": {
        "id": "cbehRWGjZeEQ"
      },
      "source": [
        "Finding appropriate value of 'k'"
      ]
    },
    {
      "cell_type": "code",
      "metadata": {
        "id": "9-B-Fo2HcPl9"
      },
      "source": [
        "distortions = []\n",
        "inertias = []\n",
        "mapping1 = {}\n",
        "mapping2 = {}\n",
        "K = range(1, 13)\n",
        "for k in K:\n",
        "    kmeanModel = KMeans(n_clusters=k)\n",
        "    kmeanModel.fit(XX_train)\n",
        " \n",
        "    distortions.append(sum(np.min(cdist(XX_train, kmeanModel.cluster_centers_,\n",
        "                                        'euclidean'), axis=1)) / XX_train.shape[0])\n",
        "    inertias.append(kmeanModel.inertia_)\n",
        " \n",
        "    mapping1[k] = sum(np.min(cdist(XX_train, kmeanModel.cluster_centers_,\n",
        "                                   'euclidean'), axis=1)) / XX_train.shape[0]\n",
        "    mapping2[k] = kmeanModel.inertia_"
      ],
      "execution_count": null,
      "outputs": []
    },
    {
      "cell_type": "code",
      "metadata": {
        "colab": {
          "base_uri": "https://localhost:8080/",
          "height": 295
        },
        "id": "nV5yyLzYgsMF",
        "outputId": "c16e8356-cd41-41f1-9e40-910bce46d920"
      },
      "source": [
        "plt.plot(K, inertias, 'bx-')\n",
        "plt.xlabel('Values of K')\n",
        "plt.ylabel('Inertia')\n",
        "plt.title('The Elbow Method using Inertia')\n",
        "plt.show()"
      ],
      "execution_count": null,
      "outputs": [
        {
          "output_type": "display_data",
          "data": {
            "image/png": "[encoded data removed]",
            "text/plain": [
              "<Figure size 432x288 with 1 Axes>"
            ]
          },
          "metadata": {
            "tags": [],
            "needs_background": "light"
          }
        }
      ]
    },
    {
      "cell_type": "code",
      "metadata": {
        "id": "SDhqlb-IeH3_"
      },
      "source": [
        "kmeans = KMeans(n_clusters=3)\n",
        "kmeans.fit(XX_train)\n",
        "y_pred = kmeans.predict(XX_test)"
      ],
      "execution_count": null,
      "outputs": []
    },
    {
      "cell_type": "code",
      "metadata": {
        "colab": {
          "base_uri": "https://localhost:8080/",
          "height": 411
        },
        "id": "uuFYEyCghZRS",
        "outputId": "6928619f-e139-4c20-f4a4-036ba0c4a8c3"
      },
      "source": [
        "labels = kmeans.labels_\n",
        "centroids = kmeans.cluster_centers_\n",
        "\n",
        "plt.figure(figsize=(9,7))\n",
        "axs = plt.axes(projection=\"3d\")\n",
        "axs.scatter3D(XX_train[:,0],XX_train[:,1],XX_train[:,2],c=labels.astype(float),edgecolor=\"k\")\n",
        "axs.scatter3D(centroids[0,:],centroids[1,:],centroids[2,:],color=\"red\",marker=\"^\")\n",
        "plt.show()"
      ],
      "execution_count": null,
      "outputs": [
        {
          "output_type": "display_data",
          "data": {
            "image/png": "[encoded data removed]",
            "text/plain": [
              "<Figure size 648x504 with 1 Axes>"
            ]
          },
          "metadata": {
            "tags": [],
            "needs_background": "light"
          }
        }
      ]
    },
    {
      "cell_type": "code",
      "metadata": {
        "colab": {
          "base_uri": "https://localhost:8080/",
          "height": 282
        },
        "id": "ozzIWr0Xro_v",
        "outputId": "b6ec30a1-7639-4a30-fa5a-3a28137e5096"
      },
      "source": [
        "plt.figure(figsize=(9,7))\n",
        "plt.scatter(XX_train[:,0],XX_train[:,1],c=labels.astype(float),edgecolor=\"k\")\n",
        "plt.scatter(centroids[0,:],centroids[1,:],color=\"red\",marker=\"^\")"
      ],
      "execution_count": null,
      "outputs": [
        {
          "output_type": "execute_result",
          "data": {
            "text/plain": [
              "<matplotlib.collections.PathCollection at 0x7f9c3aa71c50>"
            ]
          },
          "metadata": {
            "tags": []
          },
          "execution_count": 24
        },
        {
          "output_type": "display_data",
          "data": {
            "image/png": "[encoded data removed]",
            "text/plain": [
              "<Figure size 432x288 with 1 Axes>"
            ]
          },
          "metadata": {
            "tags": [],
            "needs_background": "light"
          }
        }
      ]
    },
    {
      "cell_type": "markdown",
      "metadata": {
        "id": "qJcldH-Lcxlw"
      },
      "source": [
        "## Hierarchical Clustering"
      ]
    },
    {
      "cell_type": "code",
      "metadata": {
        "id": "sR2BsE_cs4j2"
      },
      "source": [
        "from scipy.cluster import hierarchy as shc\n",
        "from sklearn.cluster import AgglomerativeClustering "
      ],
      "execution_count": null,
      "outputs": []
    },
    {
      "cell_type": "code",
      "metadata": {
        "colab": {
          "base_uri": "https://localhost:8080/",
          "height": 298
        },
        "id": "pEsXs3QGdfpQ",
        "outputId": "8470c6fb-5481-4903-e8ca-ee2d6c1419ea"
      },
      "source": [
        "dendrogram = shc.dendrogram(shc.linkage(XX_train,method=\"ward\"))\n",
        "# plt.figure(figsize=(10,8))\n",
        "plt.title(\"Dendrogrma Plot\")  \n",
        "plt.ylabel(\"Euclidean Distances\")  \n",
        "plt.xlabel(\"Customers\")  \n",
        "plt.show()"
      ],
      "execution_count": null,
      "outputs": [
        {
          "output_type": "display_data",
          "data": {
            "image/png": "[encoded data removed]",
            "text/plain": [
              "<Figure size 432x288 with 1 Axes>"
            ]
          },
          "metadata": {
            "tags": [],
            "needs_background": "light"
          }
        }
      ]
    },
    {
      "cell_type": "code",
      "metadata": {
        "id": "JfqyMCA4jMUo"
      },
      "source": [
        "hc= AgglomerativeClustering(n_clusters=3, affinity=\"euclidean\", linkage=\"ward\")\n",
        "y_pred_hc = hc.fit_predict(XX)"
      ],
      "execution_count": null,
      "outputs": []
    },
    {
      "cell_type": "code",
      "metadata": {
        "colab": {
          "base_uri": "https://localhost:8080/",
          "height": 411
        },
        "id": "ehNzuBBXjle0",
        "outputId": "a5dedbbe-6c7f-45ff-8f3b-65f04d9f203a"
      },
      "source": [
        "plt.figure(figsize=(9,7))\n",
        "axs = plt.axes(projection=\"3d\")\n",
        "axs.scatter3D(XX[:,0],XX[:,1],XX[:,2],c=y_pred_hc.astype(float),edgecolor=\"k\")\n",
        "plt.show()"
      ],
      "execution_count": null,
      "outputs": [
        {
          "output_type": "display_data",
          "data": {
            "image/png": "[encoded data removed]",
            "text/plain": [
              "<Figure size 648x504 with 1 Axes>"
            ]
          },
          "metadata": {
            "tags": [],
            "needs_background": "light"
          }
        }
      ]
    },
    {
      "cell_type": "markdown",
      "metadata": {
        "id": "SrLNnzPrzRnc"
      },
      "source": [
        "# Supervised Learning"
      ]
    },
    {
      "cell_type": "code",
      "metadata": {
        "colab": {
          "base_uri": "https://localhost:8080/"
        },
        "id": "-5v2DoxlSP8m",
        "outputId": "99c35714-dcd2-4c8a-85fb-d87c0d38a3b7"
      },
      "source": [
        "dataset = pd.read_csv(\"/content/drive/MyDrive/Colab Notebooks/sample-orders.csv\",encoding = 'unicode_escape')\n",
        "dataset.info()"
      ],
      "execution_count": null,
      "outputs": [
        {
          "output_type": "stream",
          "text": [
            "<class 'pandas.core.frame.DataFrame'>\n",
            "RangeIndex: 5009 entries, 0 to 5008\n",
            "Data columns (total 4 columns):\n",
            " #   Column       Non-Null Count  Dtype \n",
            "---  ------       --------------  ----- \n",
            " 0   order_date   5009 non-null   object\n",
            " 1   order_id     5009 non-null   object\n",
            " 2   customer     5009 non-null   object\n",
            " 3   grand_total  5009 non-null   int64 \n",
            "dtypes: int64(1), object(3)\n",
            "memory usage: 156.7+ KB\n"
          ],
          "name": "stdout"
        }
      ]
    },
    {
      "cell_type": "code",
      "metadata": {
        "colab": {
          "base_uri": "https://localhost:8080/",
          "height": 194
        },
        "id": "u8Mq6i9uSmLo",
        "outputId": "0ccf450c-6236-48dd-aaa7-b2ad2b7dded4"
      },
      "source": [
        "dataset[\"order_date\"] = pd.to_datetime(dataset[\"order_date\"])\n",
        "dataset.head(5)"
      ],
      "execution_count": null,
      "outputs": [
        {
          "output_type": "execute_result",
          "data": {
            "text/html": [
              "<div>\n",
              "<style scoped>\n",
              "    .dataframe tbody tr th:only-of-type {\n",
              "        vertical-align: middle;\n",
              "    }\n",
              "\n",
              "    .dataframe tbody tr th {\n",
              "        vertical-align: top;\n",
              "    }\n",
              "\n",
              "    .dataframe thead th {\n",
              "        text-align: right;\n",
              "    }\n",
              "</style>\n",
              "<table border=\"1\" class=\"dataframe\">\n",
              "  <thead>\n",
              "    <tr style=\"text-align: right;\">\n",
              "      <th></th>\n",
              "      <th>order_date</th>\n",
              "      <th>order_id</th>\n",
              "      <th>customer</th>\n",
              "      <th>grand_total</th>\n",
              "    </tr>\n",
              "  </thead>\n",
              "  <tbody>\n",
              "    <tr>\n",
              "      <th>0</th>\n",
              "      <td>2011-09-07</td>\n",
              "      <td>CA-2011-100006</td>\n",
              "      <td>Dennis Kane</td>\n",
              "      <td>378</td>\n",
              "    </tr>\n",
              "    <tr>\n",
              "      <th>1</th>\n",
              "      <td>2011-07-08</td>\n",
              "      <td>CA-2011-100090</td>\n",
              "      <td>Ed Braxton</td>\n",
              "      <td>699</td>\n",
              "    </tr>\n",
              "    <tr>\n",
              "      <th>2</th>\n",
              "      <td>2011-03-14</td>\n",
              "      <td>CA-2011-100293</td>\n",
              "      <td>Neil Franzsisch</td>\n",
              "      <td>91</td>\n",
              "    </tr>\n",
              "    <tr>\n",
              "      <th>3</th>\n",
              "      <td>2011-01-29</td>\n",
              "      <td>CA-2011-100328</td>\n",
              "      <td>Jasper Cacioppo</td>\n",
              "      <td>4</td>\n",
              "    </tr>\n",
              "    <tr>\n",
              "      <th>4</th>\n",
              "      <td>2011-04-08</td>\n",
              "      <td>CA-2011-100363</td>\n",
              "      <td>Jim Mitchum</td>\n",
              "      <td>21</td>\n",
              "    </tr>\n",
              "  </tbody>\n",
              "</table>\n",
              "</div>"
            ],
            "text/plain": [
              "  order_date        order_id          customer  grand_total\n",
              "0 2011-09-07  CA-2011-100006       Dennis Kane          378\n",
              "1 2011-07-08  CA-2011-100090        Ed Braxton          699\n",
              "2 2011-03-14  CA-2011-100293  Neil Franzsisch           91\n",
              "3 2011-01-29  CA-2011-100328   Jasper Cacioppo            4\n",
              "4 2011-04-08  CA-2011-100363       Jim Mitchum           21"
            ]
          },
          "metadata": {
            "tags": []
          },
          "execution_count": 28
        }
      ]
    },
    {
      "cell_type": "code",
      "metadata": {
        "id": "ZTxfax7GTqXU"
      },
      "source": [
        "today = dt.datetime(2021,4,20)\n",
        "RFM_Table = dataset.groupby('customer').agg({'order_date': lambda x: (today - x.max()).days, # Recency\n",
        "                                        'order_id': lambda x: len(x),      # Frequency\n",
        "                                        'grand_total': lambda x: x.sum()}) # Monetary Value\n"
      ],
      "execution_count": null,
      "outputs": []
    },
    {
      "cell_type": "code",
      "metadata": {
        "colab": {
          "base_uri": "https://localhost:8080/"
        },
        "id": "XkKpOD1OTssL",
        "outputId": "09764d8f-8515-4ec8-b1d3-27089ac5f40b"
      },
      "source": [
        "# RMF_Table.head(5)\n",
        "print(type(RFM_Table[\"order_date\"]))"
      ],
      "execution_count": null,
      "outputs": [
        {
          "output_type": "stream",
          "text": [
            "<class 'pandas.core.series.Series'>\n"
          ],
          "name": "stdout"
        }
      ]
    },
    {
      "cell_type": "code",
      "metadata": {
        "id": "fPJcji_SUnSw"
      },
      "source": [
        "RFM_Table[\"order_date\"] = RFM_Table[\"order_date\"].astype(int)\n",
        "RFM_Table.rename(inplace=True,columns={\"order_date\":\"recency\",\"order_id\":\"frequency\",\"grand_total\":\"monetary_value\"})"
      ],
      "execution_count": null,
      "outputs": []
    },
    {
      "cell_type": "code",
      "metadata": {
        "colab": {
          "base_uri": "https://localhost:8080/",
          "height": 223
        },
        "id": "7lNfOZ83U112",
        "outputId": "8afb2926-c132-4557-9fe7-37e0b6cc7eb5"
      },
      "source": [
        "RFM_Table.head(5)"
      ],
      "execution_count": null,
      "outputs": [
        {
          "output_type": "execute_result",
          "data": {
            "text/html": [
              "<div>\n",
              "<style scoped>\n",
              "    .dataframe tbody tr th:only-of-type {\n",
              "        vertical-align: middle;\n",
              "    }\n",
              "\n",
              "    .dataframe tbody tr th {\n",
              "        vertical-align: top;\n",
              "    }\n",
              "\n",
              "    .dataframe thead th {\n",
              "        text-align: right;\n",
              "    }\n",
              "</style>\n",
              "<table border=\"1\" class=\"dataframe\">\n",
              "  <thead>\n",
              "    <tr style=\"text-align: right;\">\n",
              "      <th></th>\n",
              "      <th>recency</th>\n",
              "      <th>frequency</th>\n",
              "      <th>monetary_value</th>\n",
              "    </tr>\n",
              "    <tr>\n",
              "      <th>customer</th>\n",
              "      <th></th>\n",
              "      <th></th>\n",
              "      <th></th>\n",
              "    </tr>\n",
              "  </thead>\n",
              "  <tbody>\n",
              "    <tr>\n",
              "      <th>Aaron Bergman</th>\n",
              "      <td>2717</td>\n",
              "      <td>3</td>\n",
              "      <td>887</td>\n",
              "    </tr>\n",
              "    <tr>\n",
              "      <th>Aaron Hawkins</th>\n",
              "      <td>2314</td>\n",
              "      <td>7</td>\n",
              "      <td>1744</td>\n",
              "    </tr>\n",
              "    <tr>\n",
              "      <th>Aaron Smayling</th>\n",
              "      <td>2390</td>\n",
              "      <td>7</td>\n",
              "      <td>3050</td>\n",
              "    </tr>\n",
              "    <tr>\n",
              "      <th>Adam Bellavance</th>\n",
              "      <td>2356</td>\n",
              "      <td>8</td>\n",
              "      <td>7756</td>\n",
              "    </tr>\n",
              "    <tr>\n",
              "      <th>Adam Hart</th>\n",
              "      <td>2336</td>\n",
              "      <td>10</td>\n",
              "      <td>3249</td>\n",
              "    </tr>\n",
              "  </tbody>\n",
              "</table>\n",
              "</div>"
            ],
            "text/plain": [
              "                 recency  frequency  monetary_value\n",
              "customer                                           \n",
              "Aaron Bergman       2717          3             887\n",
              "Aaron Hawkins       2314          7            1744\n",
              "Aaron Smayling      2390          7            3050\n",
              "Adam Bellavance     2356          8            7756\n",
              "Adam Hart           2336         10            3249"
            ]
          },
          "metadata": {
            "tags": []
          },
          "execution_count": 32
        }
      ]
    },
    {
      "cell_type": "code",
      "metadata": {
        "colab": {
          "base_uri": "https://localhost:8080/",
          "height": 135
        },
        "id": "4WDJ7Hipan3L",
        "outputId": "af48c07d-d9f1-4360-f35c-775355d89afc"
      },
      "source": [
        "quantiles = RFM_Table.quantile(q=[0.25,0.5,0.75])\n",
        "quantiles"
      ],
      "execution_count": null,
      "outputs": [
        {
          "output_type": "execute_result",
          "data": {
            "text/html": [
              "<div>\n",
              "<style scoped>\n",
              "    .dataframe tbody tr th:only-of-type {\n",
              "        vertical-align: middle;\n",
              "    }\n",
              "\n",
              "    .dataframe tbody tr th {\n",
              "        vertical-align: top;\n",
              "    }\n",
              "\n",
              "    .dataframe thead th {\n",
              "        text-align: right;\n",
              "    }\n",
              "</style>\n",
              "<table border=\"1\" class=\"dataframe\">\n",
              "  <thead>\n",
              "    <tr style=\"text-align: right;\">\n",
              "      <th></th>\n",
              "      <th>recency</th>\n",
              "      <th>frequency</th>\n",
              "      <th>monetary_value</th>\n",
              "    </tr>\n",
              "  </thead>\n",
              "  <tbody>\n",
              "    <tr>\n",
              "      <th>0.25</th>\n",
              "      <td>2332.0</td>\n",
              "      <td>5.0</td>\n",
              "      <td>1145.0</td>\n",
              "    </tr>\n",
              "    <tr>\n",
              "      <th>0.50</th>\n",
              "      <td>2377.0</td>\n",
              "      <td>6.0</td>\n",
              "      <td>2257.0</td>\n",
              "    </tr>\n",
              "    <tr>\n",
              "      <th>0.75</th>\n",
              "      <td>2485.0</td>\n",
              "      <td>8.0</td>\n",
              "      <td>3784.0</td>\n",
              "    </tr>\n",
              "  </tbody>\n",
              "</table>\n",
              "</div>"
            ],
            "text/plain": [
              "      recency  frequency  monetary_value\n",
              "0.25   2332.0        5.0          1145.0\n",
              "0.50   2377.0        6.0          2257.0\n",
              "0.75   2485.0        8.0          3784.0"
            ]
          },
          "metadata": {
            "tags": []
          },
          "execution_count": 33
        }
      ]
    },
    {
      "cell_type": "code",
      "metadata": {
        "colab": {
          "base_uri": "https://localhost:8080/"
        },
        "id": "0qx2Pc04a4v6",
        "outputId": "be60da89-b812-49a4-8ce5-c75c9af3439a"
      },
      "source": [
        "# print(type(quantiles))\n",
        "quantiles = quantiles.to_dict(orient=\"dict\")\n",
        "quantiles"
      ],
      "execution_count": null,
      "outputs": [
        {
          "output_type": "execute_result",
          "data": {
            "text/plain": [
              "{'frequency': {0.25: 5.0, 0.5: 6.0, 0.75: 8.0},\n",
              " 'monetary_value': {0.25: 1145.0, 0.5: 2257.0, 0.75: 3784.0},\n",
              " 'recency': {0.25: 2332.0, 0.5: 2377.0, 0.75: 2485.0}}"
            ]
          },
          "metadata": {
            "tags": []
          },
          "execution_count": 34
        }
      ]
    },
    {
      "cell_type": "code",
      "metadata": {
        "id": "YEOb-yiFdA5x"
      },
      "source": [
        "def class_assign(val,param,quantile):\n",
        "  if val <= quantile[param][0.25]:\n",
        "    return 1\n",
        "  elif val <= quantile[param][0.5]:\n",
        "    return 2\n",
        "  elif val <= quantile[param][0.75]:\n",
        "    return 3\n",
        "  else:\n",
        "    return 4"
      ],
      "execution_count": null,
      "outputs": []
    },
    {
      "cell_type": "code",
      "metadata": {
        "colab": {
          "base_uri": "https://localhost:8080/",
          "height": 223
        },
        "id": "J1rFp7jFeCqU",
        "outputId": "a8f68f09-c8ae-4f53-855d-1adf2e22166f"
      },
      "source": [
        "RFM_Table[\"R\"] = RFM_Table[\"recency\"].apply(class_assign,args=(\"recency\",quantiles,))\n",
        "RFM_Table[\"F\"] = RFM_Table[\"frequency\"].apply(class_assign,args=(\"frequency\",quantiles,))\n",
        "RFM_Table[\"M\"] = RFM_Table[\"monetary_value\"].apply(class_assign,args=(\"monetary_value\",quantiles,))\n",
        "RFM_Table.head(5)"
      ],
      "execution_count": null,
      "outputs": [
        {
          "output_type": "execute_result",
          "data": {
            "text/html": [
              "<div>\n",
              "<style scoped>\n",
              "    .dataframe tbody tr th:only-of-type {\n",
              "        vertical-align: middle;\n",
              "    }\n",
              "\n",
              "    .dataframe tbody tr th {\n",
              "        vertical-align: top;\n",
              "    }\n",
              "\n",
              "    .dataframe thead th {\n",
              "        text-align: right;\n",
              "    }\n",
              "</style>\n",
              "<table border=\"1\" class=\"dataframe\">\n",
              "  <thead>\n",
              "    <tr style=\"text-align: right;\">\n",
              "      <th></th>\n",
              "      <th>recency</th>\n",
              "      <th>frequency</th>\n",
              "      <th>monetary_value</th>\n",
              "      <th>R</th>\n",
              "      <th>F</th>\n",
              "      <th>M</th>\n",
              "    </tr>\n",
              "    <tr>\n",
              "      <th>customer</th>\n",
              "      <th></th>\n",
              "      <th></th>\n",
              "      <th></th>\n",
              "      <th></th>\n",
              "      <th></th>\n",
              "      <th></th>\n",
              "    </tr>\n",
              "  </thead>\n",
              "  <tbody>\n",
              "    <tr>\n",
              "      <th>Aaron Bergman</th>\n",
              "      <td>2717</td>\n",
              "      <td>3</td>\n",
              "      <td>887</td>\n",
              "      <td>4</td>\n",
              "      <td>1</td>\n",
              "      <td>1</td>\n",
              "    </tr>\n",
              "    <tr>\n",
              "      <th>Aaron Hawkins</th>\n",
              "      <td>2314</td>\n",
              "      <td>7</td>\n",
              "      <td>1744</td>\n",
              "      <td>1</td>\n",
              "      <td>3</td>\n",
              "      <td>2</td>\n",
              "    </tr>\n",
              "    <tr>\n",
              "      <th>Aaron Smayling</th>\n",
              "      <td>2390</td>\n",
              "      <td>7</td>\n",
              "      <td>3050</td>\n",
              "      <td>3</td>\n",
              "      <td>3</td>\n",
              "      <td>3</td>\n",
              "    </tr>\n",
              "    <tr>\n",
              "      <th>Adam Bellavance</th>\n",
              "      <td>2356</td>\n",
              "      <td>8</td>\n",
              "      <td>7756</td>\n",
              "      <td>2</td>\n",
              "      <td>3</td>\n",
              "      <td>4</td>\n",
              "    </tr>\n",
              "    <tr>\n",
              "      <th>Adam Hart</th>\n",
              "      <td>2336</td>\n",
              "      <td>10</td>\n",
              "      <td>3249</td>\n",
              "      <td>2</td>\n",
              "      <td>4</td>\n",
              "      <td>3</td>\n",
              "    </tr>\n",
              "  </tbody>\n",
              "</table>\n",
              "</div>"
            ],
            "text/plain": [
              "                 recency  frequency  monetary_value  R  F  M\n",
              "customer                                                    \n",
              "Aaron Bergman       2717          3             887  4  1  1\n",
              "Aaron Hawkins       2314          7            1744  1  3  2\n",
              "Aaron Smayling      2390          7            3050  3  3  3\n",
              "Adam Bellavance     2356          8            7756  2  3  4\n",
              "Adam Hart           2336         10            3249  2  4  3"
            ]
          },
          "metadata": {
            "tags": []
          },
          "execution_count": 36
        }
      ]
    },
    {
      "cell_type": "code",
      "metadata": {
        "colab": {
          "base_uri": "https://localhost:8080/",
          "height": 223
        },
        "id": "A99VSNe5sehH",
        "outputId": "c1d7b108-fbb6-432e-e85a-fc37fb7460a2"
      },
      "source": [
        "RFM_Table[\"Label\"] = RFM_Table[[\"R\",\"F\",\"M\"]].sum(axis=1)\n",
        "RFM_Table.head(5)"
      ],
      "execution_count": null,
      "outputs": [
        {
          "output_type": "execute_result",
          "data": {
            "text/html": [
              "<div>\n",
              "<style scoped>\n",
              "    .dataframe tbody tr th:only-of-type {\n",
              "        vertical-align: middle;\n",
              "    }\n",
              "\n",
              "    .dataframe tbody tr th {\n",
              "        vertical-align: top;\n",
              "    }\n",
              "\n",
              "    .dataframe thead th {\n",
              "        text-align: right;\n",
              "    }\n",
              "</style>\n",
              "<table border=\"1\" class=\"dataframe\">\n",
              "  <thead>\n",
              "    <tr style=\"text-align: right;\">\n",
              "      <th></th>\n",
              "      <th>recency</th>\n",
              "      <th>frequency</th>\n",
              "      <th>monetary_value</th>\n",
              "      <th>R</th>\n",
              "      <th>F</th>\n",
              "      <th>M</th>\n",
              "      <th>Label</th>\n",
              "    </tr>\n",
              "    <tr>\n",
              "      <th>customer</th>\n",
              "      <th></th>\n",
              "      <th></th>\n",
              "      <th></th>\n",
              "      <th></th>\n",
              "      <th></th>\n",
              "      <th></th>\n",
              "      <th></th>\n",
              "    </tr>\n",
              "  </thead>\n",
              "  <tbody>\n",
              "    <tr>\n",
              "      <th>Aaron Bergman</th>\n",
              "      <td>2717</td>\n",
              "      <td>3</td>\n",
              "      <td>887</td>\n",
              "      <td>4</td>\n",
              "      <td>1</td>\n",
              "      <td>1</td>\n",
              "      <td>6</td>\n",
              "    </tr>\n",
              "    <tr>\n",
              "      <th>Aaron Hawkins</th>\n",
              "      <td>2314</td>\n",
              "      <td>7</td>\n",
              "      <td>1744</td>\n",
              "      <td>1</td>\n",
              "      <td>3</td>\n",
              "      <td>2</td>\n",
              "      <td>6</td>\n",
              "    </tr>\n",
              "    <tr>\n",
              "      <th>Aaron Smayling</th>\n",
              "      <td>2390</td>\n",
              "      <td>7</td>\n",
              "      <td>3050</td>\n",
              "      <td>3</td>\n",
              "      <td>3</td>\n",
              "      <td>3</td>\n",
              "      <td>9</td>\n",
              "    </tr>\n",
              "    <tr>\n",
              "      <th>Adam Bellavance</th>\n",
              "      <td>2356</td>\n",
              "      <td>8</td>\n",
              "      <td>7756</td>\n",
              "      <td>2</td>\n",
              "      <td>3</td>\n",
              "      <td>4</td>\n",
              "      <td>9</td>\n",
              "    </tr>\n",
              "    <tr>\n",
              "      <th>Adam Hart</th>\n",
              "      <td>2336</td>\n",
              "      <td>10</td>\n",
              "      <td>3249</td>\n",
              "      <td>2</td>\n",
              "      <td>4</td>\n",
              "      <td>3</td>\n",
              "      <td>9</td>\n",
              "    </tr>\n",
              "  </tbody>\n",
              "</table>\n",
              "</div>"
            ],
            "text/plain": [
              "                 recency  frequency  monetary_value  R  F  M  Label\n",
              "customer                                                           \n",
              "Aaron Bergman       2717          3             887  4  1  1      6\n",
              "Aaron Hawkins       2314          7            1744  1  3  2      6\n",
              "Aaron Smayling      2390          7            3050  3  3  3      9\n",
              "Adam Bellavance     2356          8            7756  2  3  4      9\n",
              "Adam Hart           2336         10            3249  2  4  3      9"
            ]
          },
          "metadata": {
            "tags": []
          },
          "execution_count": 37
        }
      ]
    },
    {
      "cell_type": "markdown",
      "metadata": {
        "id": "ufz6YC7fzGxE"
      },
      "source": [
        "## VISUALIZATION"
      ]
    },
    {
      "cell_type": "code",
      "metadata": {
        "colab": {
          "base_uri": "https://localhost:8080/",
          "height": 428
        },
        "id": "7lW0qzA5uatC",
        "outputId": "c94d8130-a1ee-40fc-9d3b-59aa3c783bce"
      },
      "source": [
        "labels = RFM_Table.groupby(\"Label\").size()\n",
        "labels = labels.to_dict()\n",
        "print(labels)\n",
        "plt.figure(figsize=(10,6))\n",
        "plt.xlabel(\"RFM score\",size=16)\n",
        "plt.ylabel(\"Customers\",size=16)\n",
        "sns.barplot(x=list(labels.keys()),y=list(labels.values()))"
      ],
      "execution_count": null,
      "outputs": [
        {
          "output_type": "stream",
          "text": [
            "{3: 31, 4: 41, 5: 78, 6: 150, 7: 130, 8: 143, 9: 116, 10: 69, 11: 26, 12: 9}\n"
          ],
          "name": "stdout"
        },
        {
          "output_type": "execute_result",
          "data": {
            "text/plain": [
              "<matplotlib.axes._subplots.AxesSubplot at 0x7f704cf0fbd0>"
            ]
          },
          "metadata": {
            "tags": []
          },
          "execution_count": 38
        },
        {
          "output_type": "display_data",
          "data": {
            "image/png": "[encoded data removed]",
            "text/plain": [
              "<Figure size 720x432 with 1 Axes>"
            ]
          },
          "metadata": {
            "tags": [],
            "needs_background": "light"
          }
        }
      ]
    },
    {
      "cell_type": "markdown",
      "metadata": {
        "id": "Bc-0U_a3bl4e"
      },
      "source": [
        "# BELOW IS A VERY IMPORTANT CELL. DO NOT DELETE IT."
      ]
    },
    {
      "cell_type": "code",
      "metadata": {
        "id": "88uVW-p3Y_dl"
      },
      "source": [
        "# 1st definition of model\n",
        "  # epochs = 200 (i think it's okay)\n",
        "  # n_x = [64,128,128,128,12] (this works good enough with train accuracy=95% and test accuracy=82%) \n",
        "\n",
        "# 2nd definition of model (best till now)\n",
        "  # epochs = 100\n",
        "  # n_x = [64(0.2 drop),64(0.2 drop),128(0.1 drop),128(0.1 drop),12]"
      ],
      "execution_count": null,
      "outputs": []
    },
    {
      "cell_type": "code",
      "metadata": {
        "id": "vu7_L5APzBd9"
      },
      "source": [
        "import tensorflow as tf\n",
        "from tensorflow.keras import Input\n",
        "from tensorflow.keras.models import Sequential,load_model\n",
        "from tensorflow.keras.layers import Dense,Dropout\n",
        "from sklearn import preprocessing\n",
        "from sklearn.neighbors import KNeighborsClassifier\n",
        "from sklearn.model_selection import train_test_split\n",
        "from sklearn.metrics import accuracy_score\n",
        "from sklearn import preprocessing"
      ],
      "execution_count": null,
      "outputs": []
    },
    {
      "cell_type": "code",
      "metadata": {
        "id": "C_E5Io0XSk3m"
      },
      "source": [
        "def convert_labels(labels):\n",
        "  \"\"\"\n",
        "    params:\n",
        "      labels: a dataframe consisting labels given to every customer in dataset\n",
        "    output: a numpy array(sparse matrix) consisting of 0's and 1's with shape (len(labels),12)\n",
        "  \"\"\"\n",
        "  y = np.zeros((labels.shape[0],12))\n",
        "  labels = labels.to_numpy(copy=False)\n",
        "  for i in range(len(labels)):\n",
        "    y[i][labels[i]-1] = 1\n",
        "  return y"
      ],
      "execution_count": null,
      "outputs": []
    },
    {
      "cell_type": "code",
      "metadata": {
        "id": "GIOoj1nI5XMp"
      },
      "source": [
        "# extracting data from RFM table\n",
        "# X = RFM_Table[[\"recency\",\"frequency\",\"monetary_value\"]].copy()\n",
        "X = RFM_Table[[\"R\",\"F\",\"M\"]].copy().to_numpy()\n",
        "# X = preprocessing.scale(X)\n",
        "Y = RFM_Table[[\"Label\"]].copy()\n",
        "Y = convert_labels(Y)\n",
        "X_train, X_test, y_train, y_test = train_test_split(X, Y, test_size=0.2)"
      ],
      "execution_count": null,
      "outputs": []
    },
    {
      "cell_type": "code",
      "metadata": {
        "colab": {
          "base_uri": "https://localhost:8080/"
        },
        "id": "cxED0JxJUWz5",
        "outputId": "48c9a549-64ba-4090-c51b-3c2b13ec795a"
      },
      "source": [
        "Y.shape"
      ],
      "execution_count": null,
      "outputs": [
        {
          "output_type": "execute_result",
          "data": {
            "text/plain": [
              "(793, 12)"
            ]
          },
          "metadata": {
            "tags": []
          },
          "execution_count": 43
        }
      ]
    },
    {
      "cell_type": "code",
      "metadata": {
        "id": "SZYHPGvRO_MO"
      },
      "source": [
        "# model\n",
        "model = Sequential()\n",
        "model.add(Dense(64,input_dim=3,activation=\"relu\"))\n",
        "model.add(Dropout(rate=0.2))\n",
        "model.add(Dense(64,activation=\"relu\"))\n",
        "model.add(Dropout(rate=0.2))\n",
        "model.add(Dense(128,activation=\"relu\"))\n",
        "model.add(Dropout(rate=0.1))\n",
        "model.add(Dense(128,activation=\"relu\"))\n",
        "model.add(Dropout(rate=0.1))\n",
        "model.add(Dense(12,activation=\"softmax\"))\n",
        "model.compile(loss=\"categorical_crossentropy\",optimizer=\"adam\",metrics=[\"accuracy\"])"
      ],
      "execution_count": null,
      "outputs": []
    },
    {
      "cell_type": "code",
      "metadata": {
        "colab": {
          "base_uri": "https://localhost:8080/"
        },
        "id": "2h4CGU9uV--r",
        "outputId": "d9e2832d-6324-4e86-c967-e03f5c6730ac"
      },
      "source": [
        "model.fit(X_train,y_train,epochs=100,batch_size=20)"
      ],
      "execution_count": null,
      "outputs": [
        {
          "output_type": "stream",
          "text": [
            "Epoch 1/100\n",
            "32/32 [==============================] - 1s 2ms/step - loss: 2.3808 - accuracy: 0.1340\n",
            "Epoch 2/100\n",
            "32/32 [==============================] - 0s 2ms/step - loss: 2.0382 - accuracy: 0.2474\n",
            "Epoch 3/100\n",
            "32/32 [==============================] - 0s 2ms/step - loss: 1.9974 - accuracy: 0.2341\n",
            "Epoch 4/100\n",
            "32/32 [==============================] - 0s 2ms/step - loss: 1.8852 - accuracy: 0.2646\n",
            "Epoch 5/100\n",
            "32/32 [==============================] - 0s 2ms/step - loss: 1.8829 - accuracy: 0.2428\n",
            "Epoch 6/100\n",
            "32/32 [==============================] - 0s 2ms/step - loss: 1.8294 - accuracy: 0.2657\n",
            "Epoch 7/100\n",
            "32/32 [==============================] - 0s 2ms/step - loss: 1.7279 - accuracy: 0.2846\n",
            "Epoch 8/100\n",
            "32/32 [==============================] - 0s 2ms/step - loss: 1.7060 - accuracy: 0.3078\n",
            "Epoch 9/100\n",
            "32/32 [==============================] - 0s 2ms/step - loss: 1.6234 - accuracy: 0.3284\n",
            "Epoch 10/100\n",
            "32/32 [==============================] - 0s 2ms/step - loss: 1.5047 - accuracy: 0.3716\n",
            "Epoch 11/100\n",
            "32/32 [==============================] - 0s 2ms/step - loss: 1.5255 - accuracy: 0.3559\n",
            "Epoch 12/100\n",
            "32/32 [==============================] - 0s 2ms/step - loss: 1.4271 - accuracy: 0.3910\n",
            "Epoch 13/100\n",
            "32/32 [==============================] - 0s 2ms/step - loss: 1.3871 - accuracy: 0.3967\n",
            "Epoch 14/100\n",
            "32/32 [==============================] - 0s 2ms/step - loss: 1.3835 - accuracy: 0.4567\n",
            "Epoch 15/100\n",
            "32/32 [==============================] - 0s 2ms/step - loss: 1.2629 - accuracy: 0.4923\n",
            "Epoch 16/100\n",
            "32/32 [==============================] - 0s 2ms/step - loss: 1.2127 - accuracy: 0.5047\n",
            "Epoch 17/100\n",
            "32/32 [==============================] - 0s 2ms/step - loss: 1.1661 - accuracy: 0.4855\n",
            "Epoch 18/100\n",
            "32/32 [==============================] - 0s 2ms/step - loss: 1.0964 - accuracy: 0.5248\n",
            "Epoch 19/100\n",
            "32/32 [==============================] - 0s 2ms/step - loss: 1.0898 - accuracy: 0.5149\n",
            "Epoch 20/100\n",
            "32/32 [==============================] - 0s 2ms/step - loss: 1.0668 - accuracy: 0.5705\n",
            "Epoch 21/100\n",
            "32/32 [==============================] - 0s 2ms/step - loss: 1.0508 - accuracy: 0.5633\n",
            "Epoch 22/100\n",
            "32/32 [==============================] - 0s 2ms/step - loss: 1.0240 - accuracy: 0.5234\n",
            "Epoch 23/100\n",
            "32/32 [==============================] - 0s 2ms/step - loss: 0.9415 - accuracy: 0.6116\n",
            "Epoch 24/100\n",
            "32/32 [==============================] - 0s 2ms/step - loss: 0.8871 - accuracy: 0.6542\n",
            "Epoch 25/100\n",
            "32/32 [==============================] - 0s 2ms/step - loss: 0.8993 - accuracy: 0.6297\n",
            "Epoch 26/100\n",
            "32/32 [==============================] - 0s 2ms/step - loss: 0.8237 - accuracy: 0.6512\n",
            "Epoch 27/100\n",
            "32/32 [==============================] - 0s 2ms/step - loss: 0.8511 - accuracy: 0.6190\n",
            "Epoch 28/100\n",
            "32/32 [==============================] - 0s 2ms/step - loss: 0.7704 - accuracy: 0.6594\n",
            "Epoch 29/100\n",
            "32/32 [==============================] - 0s 2ms/step - loss: 0.7291 - accuracy: 0.7024\n",
            "Epoch 30/100\n",
            "32/32 [==============================] - 0s 2ms/step - loss: 0.7520 - accuracy: 0.6532\n",
            "Epoch 31/100\n",
            "32/32 [==============================] - 0s 2ms/step - loss: 0.7478 - accuracy: 0.6853\n",
            "Epoch 32/100\n",
            "32/32 [==============================] - 0s 2ms/step - loss: 0.7393 - accuracy: 0.6586\n",
            "Epoch 33/100\n",
            "32/32 [==============================] - 0s 2ms/step - loss: 0.6759 - accuracy: 0.7217\n",
            "Epoch 34/100\n",
            "32/32 [==============================] - 0s 2ms/step - loss: 0.6360 - accuracy: 0.7533\n",
            "Epoch 35/100\n",
            "32/32 [==============================] - 0s 2ms/step - loss: 0.6738 - accuracy: 0.6945\n",
            "Epoch 36/100\n",
            "32/32 [==============================] - 0s 2ms/step - loss: 0.6645 - accuracy: 0.7334\n",
            "Epoch 37/100\n",
            "32/32 [==============================] - 0s 2ms/step - loss: 0.7159 - accuracy: 0.7147\n",
            "Epoch 38/100\n",
            "32/32 [==============================] - 0s 2ms/step - loss: 0.6862 - accuracy: 0.7304\n",
            "Epoch 39/100\n",
            "32/32 [==============================] - 0s 2ms/step - loss: 0.6747 - accuracy: 0.7172\n",
            "Epoch 40/100\n",
            "32/32 [==============================] - 0s 2ms/step - loss: 0.6458 - accuracy: 0.7253\n",
            "Epoch 41/100\n",
            "32/32 [==============================] - 0s 2ms/step - loss: 0.6547 - accuracy: 0.7213\n",
            "Epoch 42/100\n",
            "32/32 [==============================] - 0s 2ms/step - loss: 0.5690 - accuracy: 0.7663\n",
            "Epoch 43/100\n",
            "32/32 [==============================] - 0s 2ms/step - loss: 0.5436 - accuracy: 0.7827\n",
            "Epoch 44/100\n",
            "32/32 [==============================] - 0s 2ms/step - loss: 0.5247 - accuracy: 0.7966\n",
            "Epoch 45/100\n",
            "32/32 [==============================] - 0s 2ms/step - loss: 0.5545 - accuracy: 0.7556\n",
            "Epoch 46/100\n",
            "32/32 [==============================] - 0s 2ms/step - loss: 0.5183 - accuracy: 0.7649\n",
            "Epoch 47/100\n",
            "32/32 [==============================] - 0s 2ms/step - loss: 0.4987 - accuracy: 0.7965\n",
            "Epoch 48/100\n",
            "32/32 [==============================] - 0s 2ms/step - loss: 0.5822 - accuracy: 0.7620\n",
            "Epoch 49/100\n",
            "32/32 [==============================] - 0s 2ms/step - loss: 0.4923 - accuracy: 0.7940\n",
            "Epoch 50/100\n",
            "32/32 [==============================] - 0s 2ms/step - loss: 0.5251 - accuracy: 0.7816\n",
            "Epoch 51/100\n",
            "32/32 [==============================] - 0s 2ms/step - loss: 0.4445 - accuracy: 0.8375\n",
            "Epoch 52/100\n",
            "32/32 [==============================] - 0s 2ms/step - loss: 0.4229 - accuracy: 0.8406\n",
            "Epoch 53/100\n",
            "32/32 [==============================] - 0s 2ms/step - loss: 0.4171 - accuracy: 0.8272\n",
            "Epoch 54/100\n",
            "32/32 [==============================] - 0s 2ms/step - loss: 0.4224 - accuracy: 0.8460\n",
            "Epoch 55/100\n",
            "32/32 [==============================] - 0s 2ms/step - loss: 0.4811 - accuracy: 0.8103\n",
            "Epoch 56/100\n",
            "32/32 [==============================] - 0s 2ms/step - loss: 0.4618 - accuracy: 0.8302\n",
            "Epoch 57/100\n",
            "32/32 [==============================] - 0s 2ms/step - loss: 0.4298 - accuracy: 0.8286\n",
            "Epoch 58/100\n",
            "32/32 [==============================] - 0s 2ms/step - loss: 0.3770 - accuracy: 0.8692\n",
            "Epoch 59/100\n",
            "32/32 [==============================] - 0s 2ms/step - loss: 0.4187 - accuracy: 0.8372\n",
            "Epoch 60/100\n",
            "32/32 [==============================] - 0s 2ms/step - loss: 0.3689 - accuracy: 0.8733\n",
            "Epoch 61/100\n",
            "32/32 [==============================] - 0s 2ms/step - loss: 0.4263 - accuracy: 0.8479\n",
            "Epoch 62/100\n",
            "32/32 [==============================] - 0s 2ms/step - loss: 0.4199 - accuracy: 0.8505\n",
            "Epoch 63/100\n",
            "32/32 [==============================] - 0s 2ms/step - loss: 0.4064 - accuracy: 0.8304\n",
            "Epoch 64/100\n",
            "32/32 [==============================] - 0s 2ms/step - loss: 0.3838 - accuracy: 0.8695\n",
            "Epoch 65/100\n",
            "32/32 [==============================] - 0s 2ms/step - loss: 0.3937 - accuracy: 0.8531\n",
            "Epoch 66/100\n",
            "32/32 [==============================] - 0s 2ms/step - loss: 0.3911 - accuracy: 0.8495\n",
            "Epoch 67/100\n",
            "32/32 [==============================] - 0s 2ms/step - loss: 0.3615 - accuracy: 0.8742\n",
            "Epoch 68/100\n",
            "32/32 [==============================] - 0s 2ms/step - loss: 0.3446 - accuracy: 0.8656\n",
            "Epoch 69/100\n",
            "32/32 [==============================] - 0s 2ms/step - loss: 0.3549 - accuracy: 0.8751\n",
            "Epoch 70/100\n",
            "32/32 [==============================] - 0s 2ms/step - loss: 0.3683 - accuracy: 0.8475\n",
            "Epoch 71/100\n",
            "32/32 [==============================] - 0s 2ms/step - loss: 0.3999 - accuracy: 0.8268\n",
            "Epoch 72/100\n",
            "32/32 [==============================] - 0s 2ms/step - loss: 0.3371 - accuracy: 0.8598\n",
            "Epoch 73/100\n",
            "32/32 [==============================] - 0s 2ms/step - loss: 0.3278 - accuracy: 0.8712\n",
            "Epoch 74/100\n",
            "32/32 [==============================] - 0s 2ms/step - loss: 0.3444 - accuracy: 0.8817\n",
            "Epoch 75/100\n",
            "32/32 [==============================] - 0s 2ms/step - loss: 0.3601 - accuracy: 0.8835\n",
            "Epoch 76/100\n",
            "32/32 [==============================] - 0s 2ms/step - loss: 0.2798 - accuracy: 0.8976\n",
            "Epoch 77/100\n",
            "32/32 [==============================] - 0s 2ms/step - loss: 0.3484 - accuracy: 0.8829\n",
            "Epoch 78/100\n",
            "32/32 [==============================] - 0s 2ms/step - loss: 0.3289 - accuracy: 0.8846\n",
            "Epoch 79/100\n",
            "32/32 [==============================] - 0s 2ms/step - loss: 0.3305 - accuracy: 0.8557\n",
            "Epoch 80/100\n",
            "32/32 [==============================] - 0s 2ms/step - loss: 0.3326 - accuracy: 0.8736\n",
            "Epoch 81/100\n",
            "32/32 [==============================] - 0s 2ms/step - loss: 0.2975 - accuracy: 0.8742\n",
            "Epoch 82/100\n",
            "32/32 [==============================] - 0s 2ms/step - loss: 0.3053 - accuracy: 0.8700\n",
            "Epoch 83/100\n",
            "32/32 [==============================] - 0s 2ms/step - loss: 0.3343 - accuracy: 0.8826\n",
            "Epoch 84/100\n",
            "32/32 [==============================] - 0s 2ms/step - loss: 0.3122 - accuracy: 0.8734\n",
            "Epoch 85/100\n",
            "32/32 [==============================] - 0s 2ms/step - loss: 0.2611 - accuracy: 0.9095\n",
            "Epoch 86/100\n",
            "32/32 [==============================] - 0s 2ms/step - loss: 0.2824 - accuracy: 0.8880\n",
            "Epoch 87/100\n",
            "32/32 [==============================] - 0s 2ms/step - loss: 0.3844 - accuracy: 0.8602\n",
            "Epoch 88/100\n",
            "32/32 [==============================] - 0s 2ms/step - loss: 0.3428 - accuracy: 0.8620\n",
            "Epoch 89/100\n",
            "32/32 [==============================] - 0s 2ms/step - loss: 0.2504 - accuracy: 0.9013\n",
            "Epoch 90/100\n",
            "32/32 [==============================] - 0s 2ms/step - loss: 0.2834 - accuracy: 0.8758\n",
            "Epoch 91/100\n",
            "32/32 [==============================] - 0s 2ms/step - loss: 0.2617 - accuracy: 0.9060\n",
            "Epoch 92/100\n",
            "32/32 [==============================] - 0s 2ms/step - loss: 0.2446 - accuracy: 0.9082\n",
            "Epoch 93/100\n",
            "32/32 [==============================] - 0s 2ms/step - loss: 0.3002 - accuracy: 0.8694\n",
            "Epoch 94/100\n",
            "32/32 [==============================] - 0s 2ms/step - loss: 0.3195 - accuracy: 0.8839\n",
            "Epoch 95/100\n",
            "32/32 [==============================] - 0s 2ms/step - loss: 0.2470 - accuracy: 0.9197\n",
            "Epoch 96/100\n",
            "32/32 [==============================] - 0s 2ms/step - loss: 0.2414 - accuracy: 0.9021\n",
            "Epoch 97/100\n",
            "32/32 [==============================] - 0s 2ms/step - loss: 0.2888 - accuracy: 0.8805\n",
            "Epoch 98/100\n",
            "32/32 [==============================] - 0s 2ms/step - loss: 0.2478 - accuracy: 0.9022\n",
            "Epoch 99/100\n",
            "32/32 [==============================] - 0s 2ms/step - loss: 0.2448 - accuracy: 0.9123\n",
            "Epoch 100/100\n",
            "32/32 [==============================] - 0s 2ms/step - loss: 0.2736 - accuracy: 0.9016\n"
          ],
          "name": "stdout"
        },
        {
          "output_type": "execute_result",
          "data": {
            "text/plain": [
              "<tensorflow.python.keras.callbacks.History at 0x7f4441332a10>"
            ]
          },
          "metadata": {
            "tags": []
          },
          "execution_count": 61
        }
      ]
    },
    {
      "cell_type": "code",
      "metadata": {
        "id": "8IZiDg7IbkNS"
      },
      "source": [
        "import pickle\n",
        "model.save(\"customer_segmentation_RFM.h5\")"
      ],
      "execution_count": null,
      "outputs": []
    },
    {
      "cell_type": "code",
      "metadata": {
        "colab": {
          "base_uri": "https://localhost:8080/"
        },
        "id": "pXyG2vlpfSTz",
        "outputId": "b37f2964-1499-4d15-b69f-6ce9d4060373"
      },
      "source": [
        "model.summary()"
      ],
      "execution_count": null,
      "outputs": [
        {
          "output_type": "stream",
          "text": [
            "Model: \"sequential_11\"\n",
            "_________________________________________________________________\n",
            "Layer (type)                 Output Shape              Param #   \n",
            "=================================================================\n",
            "dense_55 (Dense)             (None, 64)                256       \n",
            "_________________________________________________________________\n",
            "dropout_32 (Dropout)         (None, 64)                0         \n",
            "_________________________________________________________________\n",
            "dense_56 (Dense)             (None, 64)                4160      \n",
            "_________________________________________________________________\n",
            "dropout_33 (Dropout)         (None, 64)                0         \n",
            "_________________________________________________________________\n",
            "dense_57 (Dense)             (None, 128)               8320      \n",
            "_________________________________________________________________\n",
            "dropout_34 (Dropout)         (None, 128)               0         \n",
            "_________________________________________________________________\n",
            "dense_58 (Dense)             (None, 128)               16512     \n",
            "_________________________________________________________________\n",
            "dropout_35 (Dropout)         (None, 128)               0         \n",
            "_________________________________________________________________\n",
            "dense_59 (Dense)             (None, 12)                1548      \n",
            "=================================================================\n",
            "Total params: 30,796\n",
            "Trainable params: 30,796\n",
            "Non-trainable params: 0\n",
            "_________________________________________________________________\n"
          ],
          "name": "stdout"
        }
      ]
    },
    {
      "cell_type": "code",
      "metadata": {
        "colab": {
          "base_uri": "https://localhost:8080/"
        },
        "id": "7Uqi9TlUWuZv",
        "outputId": "653433e7-b9ce-4a93-d85c-4a39cd5bb3b1"
      },
      "source": [
        "trained_model = load_model(\"customer_segmentation_RFM.h5\")\n",
        "loss,accuracy = trained_model.evaluate(X_test,y_test)\n",
        "print(loss,\"\\n\",accuracy*100,\"%\")"
      ],
      "execution_count": null,
      "outputs": [
        {
          "output_type": "stream",
          "text": [
            "5/5 [==============================] - 0s 2ms/step - loss: 0.1270 - accuracy: 0.9434\n",
            "0.12700311839580536 \n",
            " 94.33962106704712 %\n"
          ],
          "name": "stdout"
        }
      ]
    }
  ]
}